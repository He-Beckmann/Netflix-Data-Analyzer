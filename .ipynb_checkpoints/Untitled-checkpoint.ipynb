{
 "cells": [
  {
   "cell_type": "code",
   "execution_count": 1,
   "id": "0629eeb4",
   "metadata": {},
   "outputs": [],
   "source": [
    "import pandas as pd\n",
    "import ast\n",
    "df = pd.read_csv('../ViewingActivity.csv')"
   ]
  },
  {
   "cell_type": "code",
   "execution_count": 2,
   "id": "42cfe7b1",
   "metadata": {},
   "outputs": [
    {
     "data": {
      "text/plain": [
       "(7205, 10)"
      ]
     },
     "execution_count": 2,
     "metadata": {},
     "output_type": "execute_result"
    }
   ],
   "source": [
    "df.shape"
   ]
  },
  {
   "cell_type": "code",
   "execution_count": 3,
   "id": "47c5a8c8",
   "metadata": {},
   "outputs": [
    {
     "data": {
      "text/plain": [
       "(4473, 10)"
      ]
     },
     "execution_count": 3,
     "metadata": {},
     "output_type": "execute_result"
    }
   ],
   "source": [
    "# Split Accounts\n",
    "df.columns = df.columns.str.replace(' ','_')\n",
    "hendrik = df.query(\"Profile_Name == 'Hendrik'\")\n",
    "hendrik.shape"
   ]
  },
  {
   "cell_type": "code",
   "execution_count": 4,
   "id": "69bcd4f8",
   "metadata": {},
   "outputs": [],
   "source": [
    "# Remove Advertisment\n",
    "hendrik = hendrik.query(\"Supplemental_Video_Type.isnull()\", engine='python')"
   ]
  },
  {
   "cell_type": "code",
   "execution_count": 5,
   "id": "f76558f9",
   "metadata": {
    "scrolled": true
   },
   "outputs": [
    {
     "data": {
      "text/html": [
       "<div>\n",
       "<style scoped>\n",
       "    .dataframe tbody tr th:only-of-type {\n",
       "        vertical-align: middle;\n",
       "    }\n",
       "\n",
       "    .dataframe tbody tr th {\n",
       "        vertical-align: top;\n",
       "    }\n",
       "\n",
       "    .dataframe thead th {\n",
       "        text-align: right;\n",
       "    }\n",
       "</style>\n",
       "<table border=\"1\" class=\"dataframe\">\n",
       "  <thead>\n",
       "    <tr style=\"text-align: right;\">\n",
       "      <th></th>\n",
       "      <th>Profile_Name</th>\n",
       "      <th>Start_Time</th>\n",
       "      <th>Duration</th>\n",
       "      <th>Attributes</th>\n",
       "      <th>Title</th>\n",
       "      <th>Supplemental_Video_Type</th>\n",
       "      <th>Device_Type</th>\n",
       "      <th>Bookmark</th>\n",
       "      <th>Latest_Bookmark</th>\n",
       "      <th>Country</th>\n",
       "    </tr>\n",
       "  </thead>\n",
       "  <tbody>\n",
       "    <tr>\n",
       "      <th>2732</th>\n",
       "      <td>Hendrik</td>\n",
       "      <td>2022-07-10 14:55:56</td>\n",
       "      <td>00:00:19</td>\n",
       "      <td>NaN</td>\n",
       "      <td>Stranger Things: Stranger Things 3: Kapitel ac...</td>\n",
       "      <td>NaN</td>\n",
       "      <td>Chrome PC (Cadmium)</td>\n",
       "      <td>00:03:17</td>\n",
       "      <td>00:03:17</td>\n",
       "      <td>DE (Germany)</td>\n",
       "    </tr>\n",
       "  </tbody>\n",
       "</table>\n",
       "</div>"
      ],
      "text/plain": [
       "     Profile_Name           Start_Time  Duration Attributes  \\\n",
       "2732      Hendrik  2022-07-10 14:55:56  00:00:19        NaN   \n",
       "\n",
       "                                                  Title  \\\n",
       "2732  Stranger Things: Stranger Things 3: Kapitel ac...   \n",
       "\n",
       "     Supplemental_Video_Type          Device_Type  Bookmark Latest_Bookmark  \\\n",
       "2732                     NaN  Chrome PC (Cadmium)  00:03:17        00:03:17   \n",
       "\n",
       "           Country  \n",
       "2732  DE (Germany)  "
      ]
     },
     "execution_count": 5,
     "metadata": {},
     "output_type": "execute_result"
    }
   ],
   "source": [
    "hendrik.head(1)"
   ]
  },
  {
   "cell_type": "code",
   "execution_count": 6,
   "id": "e995be29",
   "metadata": {},
   "outputs": [
    {
     "ename": "SyntaxError",
     "evalue": "invalid syntax (<ipython-input-6-9fb3a93f70e3>, line 20)",
     "output_type": "error",
     "traceback": [
      "\u001b[1;36m  File \u001b[1;32m\"<ipython-input-6-9fb3a93f70e3>\"\u001b[1;36m, line \u001b[1;32m20\u001b[0m\n\u001b[1;33m    Ready Player One\u001b[0m\n\u001b[1;37m          ^\u001b[0m\n\u001b[1;31mSyntaxError\u001b[0m\u001b[1;31m:\u001b[0m invalid syntax\n"
     ]
    }
   ],
   "source": [
    "seriesTitles = []\n",
    "chapterTitles = []\n",
    "for title in hendrik.Title:\n",
    "    seriesTitle = title.split(':')[0]\n",
    "    if len(title.split(':')) > 1:\n",
    "        chapterTitle = title.split(':')[1]\n",
    "    else:\n",
    "        chapterTitle = None  \n",
    "    if len(title.split(':')) > 2:\n",
    "        episodeTitle = title.split(':')[2]\n",
    "    else:\n",
    "        episodeTitle = None \n",
    "    seriesTitles.append(seriesTitle)\n",
    "    chapterTitles.append(chapterTitle)\n",
    "    \n",
    "\n",
    "hendrik['Series_Title'] = seriesTitles\n",
    "hendrik['Chapter_Title'] = chapterTitles\n",
    "df.query('Series_Title == \"Ready Player One\"')\n",
    "Ready Player One\n",
    "hendrik.head(30)"
   ]
  },
  {
   "cell_type": "code",
   "execution_count": null,
   "id": "ad32b2b9",
   "metadata": {},
   "outputs": [],
   "source": []
  },
  {
   "cell_type": "code",
   "execution_count": null,
   "id": "7887adae",
   "metadata": {},
   "outputs": [],
   "source": []
  }
 ],
 "metadata": {
  "kernelspec": {
   "display_name": "Python 3",
   "language": "python",
   "name": "python3"
  },
  "language_info": {
   "codemirror_mode": {
    "name": "ipython",
    "version": 3
   },
   "file_extension": ".py",
   "mimetype": "text/x-python",
   "name": "python",
   "nbconvert_exporter": "python",
   "pygments_lexer": "ipython3",
   "version": "3.8.8"
  }
 },
 "nbformat": 4,
 "nbformat_minor": 5
}
